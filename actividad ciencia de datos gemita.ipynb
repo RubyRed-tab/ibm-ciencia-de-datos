{
  "metadata": {
    "kernelspec": {
      "name": "python",
      "display_name": "Python (Pyodide)",
      "language": "python"
    },
    "language_info": {
      "codemirror_mode": {
        "name": "python",
        "version": 3
      },
      "file_extension": ".py",
      "mimetype": "text/x-python",
      "name": "python",
      "nbconvert_exporter": "python",
      "pygments_lexer": "ipython3",
      "version": "3.8"
    }
  },
  "nbformat_minor": 5,
  "nbformat": 4,
  "cells": [
    {
      "id": "a5f29a1e",
      "cell_type": "markdown",
      "source": "# Cuaderno de Ciencia de Datos de Gemita",
      "metadata": {}
    },
    {
      "id": "bdbeb4be",
      "cell_type": "markdown",
      "source": "## Introducción\nEn este cuaderno, exploraremos conceptos clave en la ciencia de datos, incluyendo lenguajes, bibliotecas y herramientas utilizadas en este campo.",
      "metadata": {}
    },
    {
      "id": "9f7e75d6",
      "cell_type": "markdown",
      "source": "## Lenguajes de la Ciencia de Datos\n- Python\n- R\n- SQL\n- Julia",
      "metadata": {
        "jp-MarkdownHeadingCollapsed": true
      }
    },
    {
      "id": "fc5d7c45",
      "cell_type": "markdown",
      "source": "## Bibliotecas de Ciencia de Datos\n- NumPy\n- Pandas\n- Matplotlib\n- Seaborn\n- Scikit-learn\n- TensorFlow",
      "metadata": {}
    },
    {
      "id": "6c3e7638",
      "cell_type": "markdown",
      "source": "## Herramientas de Ciencia de Datos\n| Herramienta | Descripción |\n|-------------|-------------|\n| Jupyter Notebook | Entorno interactivo para escribir y ejecutar código |\n| RStudio | Entorno de desarrollo para R |\n| Google Colab | Jupyter Notebook basado en la nube |\n| Tableau | Herramienta de visualización de datos |\n| Power BI | Plataforma de análisis de datos de Microsoft |",
      "metadata": {}
    },
    {
      "id": "ad6b16ca",
      "cell_type": "markdown",
      "source": "## Ejemplos de Expresiones Aritméticas\nEjemplo de operaciones básicas en Python:\n\n- Suma: `3 + 5`\n- Resta: `10 - 4`\n- Multiplicación: `2 * 6`\n- División: `8 / 2`",
      "metadata": {}
    },
    {
      "id": "a96c14a7",
      "cell_type": "code",
      "source": "# Multiplicación y suma de números\nx = 5\ny = 3\nresultado = (x * y) + y\nprint('Resultado:', resultado)",
      "metadata": {
        "trusted": true
      },
      "outputs": [
        {
          "name": "stdout",
          "output_type": "stream",
          "text": "Resultado: 18\n"
        }
      ],
      "execution_count": 4
    },
    {
      "id": "57d8169a",
      "cell_type": "code",
      "source": "# Conversión de minutos a horas\nminutos = 120\nhoras = minutos / 60\nprint(minutos, 'minutos equivalen a', horas, 'horas')",
      "metadata": {
        "trusted": true
      },
      "outputs": [
        {
          "name": "stdout",
          "output_type": "stream",
          "text": "120 minutos equivalen a 2.0 horas\n"
        }
      ],
      "execution_count": 2
    },
    {
      "id": "eac4cece",
      "cell_type": "code",
      "source": "# Listar objetivos\ndef objetivos():\n    return ['Aprender ciencia de datos', 'Manejar bibliotecas de Python', 'Aplicar técnicas de análisis de datos']\nprint(objetivos())",
      "metadata": {
        "trusted": true
      },
      "outputs": [
        {
          "name": "stdout",
          "output_type": "stream",
          "text": "['Aprender ciencia de datos', 'Manejar bibliotecas de Python', 'Aplicar técnicas de análisis de datos']\n"
        }
      ],
      "execution_count": 3
    },
    {
      "id": "3c7abf06",
      "cell_type": "markdown",
      "source": "## Autor\n**Nombre:** Gema Rojas",
      "metadata": {}
    }
  ]
}